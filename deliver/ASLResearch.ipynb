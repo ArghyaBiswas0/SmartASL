{
  "nbformat": 4,
  "nbformat_minor": 0,
  "metadata": {
    "colab": {
      "name": "ASLResearch.ipynb",
      "provenance": [],
      "collapsed_sections": []
    },
    "kernelspec": {
      "name": "python3",
      "display_name": "Python 3"
    },
    "accelerator": "GPU"
  },
  "cells": [
    {
      "cell_type": "markdown",
      "metadata": {
        "id": "t7IPIDw671se",
        "colab_type": "text"
      },
      "source": [
        "# Real-time American Sign Language Interpretation using Deep Convolutional Neural Networks\n",
        "\n",
        "In spite of being the 4th most commonly used language in the United States, sign language is actively used by only 10-14% of the members of the speech and hearing impairment community and persists to be one of the most understudied areas. In compliance with recent progress in deep learning technologies, our project explores the possibility of using deep convolutional neural networks (dCNNs) in interpreting American Sign Language in real-time. This porject aims to develop a dCNN from scratch and train it using a dataset patterned to closely match the format of the classic MNIST dataset (28x28 pixel images with pixel values ranging from 0- 255). The evaluation of the network shows that it outperforms all previous implementations surrounding this task with 98.7% accuracy on the test set. To make the solution as accessible as possible, we refrained from using sophisticated hardware like motion tracking gloves and depth-sensing cameras and deployed the trained model as a multiplatform mobile application. "
      ]
    },
    {
      "cell_type": "markdown",
      "metadata": {
        "id": "Fy0wRpZS-CZl",
        "colab_type": "text"
      },
      "source": [
        "###Importing the necessary libraries"
      ]
    },
    {
      "cell_type": "code",
      "metadata": {
        "id": "x9psxZhDAlP0",
        "colab_type": "code",
        "colab": {
          "base_uri": "https://localhost:8080/",
          "height": 71
        },
        "outputId": "971c90c7-b707-4a7a-ebc9-02a930499875"
      },
      "source": [
        "import os\n",
        "import numpy as np\n",
        "import pandas as pd\n",
        "import matplotlib.pyplot as plt\n",
        "import seaborn as sns\n",
        "import tensorflow as tf\n",
        "import tensorflow_hub as hub\n",
        "import keras\n",
        "from keras.models import Sequential\n",
        "from keras.layers import Dense,Conv2D,MaxPool2D,Flatten,Dropout,BatchNormalization\n",
        "from keras.preprocessing.image import ImageDataGenerator\n",
        "from sklearn.model_selection import train_test_split\n",
        "from sklearn.metrics import classification_report,confusion_matrix\n",
        "from keras.callbacks import ReduceLROnPlateau\n",
        "!pip install keras_sequential_ascii"
      ],
      "execution_count": 2,
      "outputs": [
        {
          "output_type": "stream",
          "text": [
            "/usr/local/lib/python3.6/dist-packages/statsmodels/tools/_testing.py:19: FutureWarning: pandas.util.testing is deprecated. Use the functions in the public API at pandas.testing instead.\n",
            "  import pandas.util.testing as tm\n"
          ],
          "name": "stderr"
        }
      ]
    },
    {
      "cell_type": "markdown",
      "metadata": {
        "id": "m9Y5NhjJ70nS",
        "colab_type": "text"
      },
      "source": [
        "###Downloading and extracting Kaggle dataset"
      ]
    },
    {
      "cell_type": "code",
      "metadata": {
        "id": "e0MochVDAw54",
        "colab_type": "code",
        "colab": {
          "base_uri": "https://localhost:8080/",
          "height": 85
        },
        "outputId": "ca7d9fff-74fe-45df-8ae9-1cb7193d975e"
      },
      "source": [
        "os.environ['KAGGLE_USERNAME'] = \"arghyabiswas0\" #username from Kaggle json file\n",
        "os.environ['KAGGLE_KEY'] = \"8141469f79b01a1c6c028a37e25912c1\" #key from Kaggle json file\n",
        "!kaggle datasets download -d datamunge/sign-language-mnist #dataset api copied from Kaggle\n",
        "from zipfile import ZipFile\n",
        "file_name = \"sign-language-mnist.zip\"\n",
        "with ZipFile(file_name,'r') as zip:\n",
        "  zip.extractall()\n",
        "  print('Done')"
      ],
      "execution_count": 3,
      "outputs": [
        {
          "output_type": "stream",
          "text": [
            "Downloading sign-language-mnist.zip to /content\n",
            " 78% 49.0M/62.6M [00:01<00:00, 29.9MB/s]\n",
            "100% 62.6M/62.6M [00:01<00:00, 51.8MB/s]\n",
            "Done\n"
          ],
          "name": "stdout"
        }
      ]
    },
    {
      "cell_type": "markdown",
      "metadata": {
        "id": "69LviJ3GEf_W",
        "colab_type": "text"
      },
      "source": [
        "###Load train and test datasets"
      ]
    },
    {
      "cell_type": "code",
      "metadata": {
        "id": "_IHflrp_A4E6",
        "colab_type": "code",
        "colab": {
          "base_uri": "https://localhost:8080/",
          "height": 253
        },
        "outputId": "f8fb4dfd-24a7-40b2-d781-ea016fa68c80"
      },
      "source": [
        "train_df = pd.read_csv('sign_mnist_train.csv') #load train dataset\n",
        "test_df = pd.read_csv('sign_mnist_test.csv') #load test dataset\n",
        "y = test_df['label'] #make a copy of the test dataset labels for model evaluation later\n",
        "train_df.shape\n",
        "train_df.head()"
      ],
      "execution_count": 21,
      "outputs": [
        {
          "output_type": "execute_result",
          "data": {
            "text/html": [
              "<div>\n",
              "<style scoped>\n",
              "    .dataframe tbody tr th:only-of-type {\n",
              "        vertical-align: middle;\n",
              "    }\n",
              "\n",
              "    .dataframe tbody tr th {\n",
              "        vertical-align: top;\n",
              "    }\n",
              "\n",
              "    .dataframe thead th {\n",
              "        text-align: right;\n",
              "    }\n",
              "</style>\n",
              "<table border=\"1\" class=\"dataframe\">\n",
              "  <thead>\n",
              "    <tr style=\"text-align: right;\">\n",
              "      <th></th>\n",
              "      <th>label</th>\n",
              "      <th>pixel1</th>\n",
              "      <th>pixel2</th>\n",
              "      <th>pixel3</th>\n",
              "      <th>pixel4</th>\n",
              "      <th>pixel5</th>\n",
              "      <th>pixel6</th>\n",
              "      <th>pixel7</th>\n",
              "      <th>pixel8</th>\n",
              "      <th>pixel9</th>\n",
              "      <th>pixel10</th>\n",
              "      <th>pixel11</th>\n",
              "      <th>pixel12</th>\n",
              "      <th>pixel13</th>\n",
              "      <th>pixel14</th>\n",
              "      <th>pixel15</th>\n",
              "      <th>pixel16</th>\n",
              "      <th>pixel17</th>\n",
              "      <th>pixel18</th>\n",
              "      <th>pixel19</th>\n",
              "      <th>pixel20</th>\n",
              "      <th>pixel21</th>\n",
              "      <th>pixel22</th>\n",
              "      <th>pixel23</th>\n",
              "      <th>pixel24</th>\n",
              "      <th>pixel25</th>\n",
              "      <th>pixel26</th>\n",
              "      <th>pixel27</th>\n",
              "      <th>pixel28</th>\n",
              "      <th>pixel29</th>\n",
              "      <th>pixel30</th>\n",
              "      <th>pixel31</th>\n",
              "      <th>pixel32</th>\n",
              "      <th>pixel33</th>\n",
              "      <th>pixel34</th>\n",
              "      <th>pixel35</th>\n",
              "      <th>pixel36</th>\n",
              "      <th>pixel37</th>\n",
              "      <th>pixel38</th>\n",
              "      <th>pixel39</th>\n",
              "      <th>...</th>\n",
              "      <th>pixel745</th>\n",
              "      <th>pixel746</th>\n",
              "      <th>pixel747</th>\n",
              "      <th>pixel748</th>\n",
              "      <th>pixel749</th>\n",
              "      <th>pixel750</th>\n",
              "      <th>pixel751</th>\n",
              "      <th>pixel752</th>\n",
              "      <th>pixel753</th>\n",
              "      <th>pixel754</th>\n",
              "      <th>pixel755</th>\n",
              "      <th>pixel756</th>\n",
              "      <th>pixel757</th>\n",
              "      <th>pixel758</th>\n",
              "      <th>pixel759</th>\n",
              "      <th>pixel760</th>\n",
              "      <th>pixel761</th>\n",
              "      <th>pixel762</th>\n",
              "      <th>pixel763</th>\n",
              "      <th>pixel764</th>\n",
              "      <th>pixel765</th>\n",
              "      <th>pixel766</th>\n",
              "      <th>pixel767</th>\n",
              "      <th>pixel768</th>\n",
              "      <th>pixel769</th>\n",
              "      <th>pixel770</th>\n",
              "      <th>pixel771</th>\n",
              "      <th>pixel772</th>\n",
              "      <th>pixel773</th>\n",
              "      <th>pixel774</th>\n",
              "      <th>pixel775</th>\n",
              "      <th>pixel776</th>\n",
              "      <th>pixel777</th>\n",
              "      <th>pixel778</th>\n",
              "      <th>pixel779</th>\n",
              "      <th>pixel780</th>\n",
              "      <th>pixel781</th>\n",
              "      <th>pixel782</th>\n",
              "      <th>pixel783</th>\n",
              "      <th>pixel784</th>\n",
              "    </tr>\n",
              "  </thead>\n",
              "  <tbody>\n",
              "    <tr>\n",
              "      <th>0</th>\n",
              "      <td>3</td>\n",
              "      <td>107</td>\n",
              "      <td>118</td>\n",
              "      <td>127</td>\n",
              "      <td>134</td>\n",
              "      <td>139</td>\n",
              "      <td>143</td>\n",
              "      <td>146</td>\n",
              "      <td>150</td>\n",
              "      <td>153</td>\n",
              "      <td>156</td>\n",
              "      <td>158</td>\n",
              "      <td>160</td>\n",
              "      <td>163</td>\n",
              "      <td>165</td>\n",
              "      <td>159</td>\n",
              "      <td>166</td>\n",
              "      <td>168</td>\n",
              "      <td>170</td>\n",
              "      <td>170</td>\n",
              "      <td>171</td>\n",
              "      <td>171</td>\n",
              "      <td>171</td>\n",
              "      <td>172</td>\n",
              "      <td>171</td>\n",
              "      <td>171</td>\n",
              "      <td>170</td>\n",
              "      <td>170</td>\n",
              "      <td>169</td>\n",
              "      <td>111</td>\n",
              "      <td>121</td>\n",
              "      <td>129</td>\n",
              "      <td>135</td>\n",
              "      <td>141</td>\n",
              "      <td>144</td>\n",
              "      <td>148</td>\n",
              "      <td>151</td>\n",
              "      <td>154</td>\n",
              "      <td>157</td>\n",
              "      <td>160</td>\n",
              "      <td>...</td>\n",
              "      <td>205</td>\n",
              "      <td>206</td>\n",
              "      <td>206</td>\n",
              "      <td>207</td>\n",
              "      <td>207</td>\n",
              "      <td>206</td>\n",
              "      <td>206</td>\n",
              "      <td>204</td>\n",
              "      <td>205</td>\n",
              "      <td>204</td>\n",
              "      <td>203</td>\n",
              "      <td>202</td>\n",
              "      <td>142</td>\n",
              "      <td>151</td>\n",
              "      <td>160</td>\n",
              "      <td>172</td>\n",
              "      <td>196</td>\n",
              "      <td>188</td>\n",
              "      <td>188</td>\n",
              "      <td>190</td>\n",
              "      <td>135</td>\n",
              "      <td>96</td>\n",
              "      <td>86</td>\n",
              "      <td>77</td>\n",
              "      <td>77</td>\n",
              "      <td>79</td>\n",
              "      <td>176</td>\n",
              "      <td>205</td>\n",
              "      <td>207</td>\n",
              "      <td>207</td>\n",
              "      <td>207</td>\n",
              "      <td>207</td>\n",
              "      <td>207</td>\n",
              "      <td>207</td>\n",
              "      <td>206</td>\n",
              "      <td>206</td>\n",
              "      <td>206</td>\n",
              "      <td>204</td>\n",
              "      <td>203</td>\n",
              "      <td>202</td>\n",
              "    </tr>\n",
              "    <tr>\n",
              "      <th>1</th>\n",
              "      <td>6</td>\n",
              "      <td>155</td>\n",
              "      <td>157</td>\n",
              "      <td>156</td>\n",
              "      <td>156</td>\n",
              "      <td>156</td>\n",
              "      <td>157</td>\n",
              "      <td>156</td>\n",
              "      <td>158</td>\n",
              "      <td>158</td>\n",
              "      <td>157</td>\n",
              "      <td>158</td>\n",
              "      <td>156</td>\n",
              "      <td>154</td>\n",
              "      <td>154</td>\n",
              "      <td>153</td>\n",
              "      <td>152</td>\n",
              "      <td>151</td>\n",
              "      <td>149</td>\n",
              "      <td>149</td>\n",
              "      <td>148</td>\n",
              "      <td>147</td>\n",
              "      <td>146</td>\n",
              "      <td>144</td>\n",
              "      <td>142</td>\n",
              "      <td>143</td>\n",
              "      <td>138</td>\n",
              "      <td>92</td>\n",
              "      <td>108</td>\n",
              "      <td>158</td>\n",
              "      <td>159</td>\n",
              "      <td>159</td>\n",
              "      <td>159</td>\n",
              "      <td>160</td>\n",
              "      <td>160</td>\n",
              "      <td>160</td>\n",
              "      <td>160</td>\n",
              "      <td>160</td>\n",
              "      <td>160</td>\n",
              "      <td>160</td>\n",
              "      <td>...</td>\n",
              "      <td>100</td>\n",
              "      <td>78</td>\n",
              "      <td>120</td>\n",
              "      <td>157</td>\n",
              "      <td>168</td>\n",
              "      <td>107</td>\n",
              "      <td>99</td>\n",
              "      <td>121</td>\n",
              "      <td>133</td>\n",
              "      <td>97</td>\n",
              "      <td>95</td>\n",
              "      <td>120</td>\n",
              "      <td>135</td>\n",
              "      <td>116</td>\n",
              "      <td>95</td>\n",
              "      <td>79</td>\n",
              "      <td>69</td>\n",
              "      <td>86</td>\n",
              "      <td>139</td>\n",
              "      <td>173</td>\n",
              "      <td>200</td>\n",
              "      <td>185</td>\n",
              "      <td>175</td>\n",
              "      <td>198</td>\n",
              "      <td>124</td>\n",
              "      <td>118</td>\n",
              "      <td>94</td>\n",
              "      <td>140</td>\n",
              "      <td>133</td>\n",
              "      <td>84</td>\n",
              "      <td>69</td>\n",
              "      <td>149</td>\n",
              "      <td>128</td>\n",
              "      <td>87</td>\n",
              "      <td>94</td>\n",
              "      <td>163</td>\n",
              "      <td>175</td>\n",
              "      <td>103</td>\n",
              "      <td>135</td>\n",
              "      <td>149</td>\n",
              "    </tr>\n",
              "    <tr>\n",
              "      <th>2</th>\n",
              "      <td>2</td>\n",
              "      <td>187</td>\n",
              "      <td>188</td>\n",
              "      <td>188</td>\n",
              "      <td>187</td>\n",
              "      <td>187</td>\n",
              "      <td>186</td>\n",
              "      <td>187</td>\n",
              "      <td>188</td>\n",
              "      <td>187</td>\n",
              "      <td>186</td>\n",
              "      <td>185</td>\n",
              "      <td>185</td>\n",
              "      <td>185</td>\n",
              "      <td>184</td>\n",
              "      <td>184</td>\n",
              "      <td>184</td>\n",
              "      <td>181</td>\n",
              "      <td>181</td>\n",
              "      <td>179</td>\n",
              "      <td>179</td>\n",
              "      <td>179</td>\n",
              "      <td>178</td>\n",
              "      <td>178</td>\n",
              "      <td>109</td>\n",
              "      <td>52</td>\n",
              "      <td>66</td>\n",
              "      <td>77</td>\n",
              "      <td>83</td>\n",
              "      <td>188</td>\n",
              "      <td>189</td>\n",
              "      <td>189</td>\n",
              "      <td>188</td>\n",
              "      <td>188</td>\n",
              "      <td>189</td>\n",
              "      <td>188</td>\n",
              "      <td>188</td>\n",
              "      <td>188</td>\n",
              "      <td>188</td>\n",
              "      <td>187</td>\n",
              "      <td>...</td>\n",
              "      <td>203</td>\n",
              "      <td>204</td>\n",
              "      <td>203</td>\n",
              "      <td>201</td>\n",
              "      <td>200</td>\n",
              "      <td>200</td>\n",
              "      <td>199</td>\n",
              "      <td>198</td>\n",
              "      <td>196</td>\n",
              "      <td>195</td>\n",
              "      <td>194</td>\n",
              "      <td>193</td>\n",
              "      <td>198</td>\n",
              "      <td>166</td>\n",
              "      <td>132</td>\n",
              "      <td>114</td>\n",
              "      <td>89</td>\n",
              "      <td>74</td>\n",
              "      <td>79</td>\n",
              "      <td>77</td>\n",
              "      <td>74</td>\n",
              "      <td>78</td>\n",
              "      <td>132</td>\n",
              "      <td>188</td>\n",
              "      <td>210</td>\n",
              "      <td>209</td>\n",
              "      <td>206</td>\n",
              "      <td>205</td>\n",
              "      <td>204</td>\n",
              "      <td>203</td>\n",
              "      <td>202</td>\n",
              "      <td>201</td>\n",
              "      <td>200</td>\n",
              "      <td>199</td>\n",
              "      <td>198</td>\n",
              "      <td>199</td>\n",
              "      <td>198</td>\n",
              "      <td>195</td>\n",
              "      <td>194</td>\n",
              "      <td>195</td>\n",
              "    </tr>\n",
              "    <tr>\n",
              "      <th>3</th>\n",
              "      <td>2</td>\n",
              "      <td>211</td>\n",
              "      <td>211</td>\n",
              "      <td>212</td>\n",
              "      <td>212</td>\n",
              "      <td>211</td>\n",
              "      <td>210</td>\n",
              "      <td>211</td>\n",
              "      <td>210</td>\n",
              "      <td>210</td>\n",
              "      <td>211</td>\n",
              "      <td>209</td>\n",
              "      <td>207</td>\n",
              "      <td>208</td>\n",
              "      <td>207</td>\n",
              "      <td>206</td>\n",
              "      <td>203</td>\n",
              "      <td>202</td>\n",
              "      <td>201</td>\n",
              "      <td>200</td>\n",
              "      <td>198</td>\n",
              "      <td>197</td>\n",
              "      <td>195</td>\n",
              "      <td>192</td>\n",
              "      <td>197</td>\n",
              "      <td>171</td>\n",
              "      <td>51</td>\n",
              "      <td>52</td>\n",
              "      <td>54</td>\n",
              "      <td>212</td>\n",
              "      <td>213</td>\n",
              "      <td>215</td>\n",
              "      <td>215</td>\n",
              "      <td>212</td>\n",
              "      <td>212</td>\n",
              "      <td>213</td>\n",
              "      <td>212</td>\n",
              "      <td>212</td>\n",
              "      <td>211</td>\n",
              "      <td>211</td>\n",
              "      <td>...</td>\n",
              "      <td>247</td>\n",
              "      <td>242</td>\n",
              "      <td>233</td>\n",
              "      <td>231</td>\n",
              "      <td>230</td>\n",
              "      <td>229</td>\n",
              "      <td>227</td>\n",
              "      <td>225</td>\n",
              "      <td>223</td>\n",
              "      <td>221</td>\n",
              "      <td>220</td>\n",
              "      <td>216</td>\n",
              "      <td>58</td>\n",
              "      <td>51</td>\n",
              "      <td>49</td>\n",
              "      <td>50</td>\n",
              "      <td>57</td>\n",
              "      <td>60</td>\n",
              "      <td>17</td>\n",
              "      <td>15</td>\n",
              "      <td>18</td>\n",
              "      <td>17</td>\n",
              "      <td>19</td>\n",
              "      <td>1</td>\n",
              "      <td>159</td>\n",
              "      <td>255</td>\n",
              "      <td>237</td>\n",
              "      <td>239</td>\n",
              "      <td>237</td>\n",
              "      <td>236</td>\n",
              "      <td>235</td>\n",
              "      <td>234</td>\n",
              "      <td>233</td>\n",
              "      <td>231</td>\n",
              "      <td>230</td>\n",
              "      <td>226</td>\n",
              "      <td>225</td>\n",
              "      <td>222</td>\n",
              "      <td>229</td>\n",
              "      <td>163</td>\n",
              "    </tr>\n",
              "    <tr>\n",
              "      <th>4</th>\n",
              "      <td>13</td>\n",
              "      <td>164</td>\n",
              "      <td>167</td>\n",
              "      <td>170</td>\n",
              "      <td>172</td>\n",
              "      <td>176</td>\n",
              "      <td>179</td>\n",
              "      <td>180</td>\n",
              "      <td>184</td>\n",
              "      <td>185</td>\n",
              "      <td>186</td>\n",
              "      <td>188</td>\n",
              "      <td>189</td>\n",
              "      <td>189</td>\n",
              "      <td>190</td>\n",
              "      <td>191</td>\n",
              "      <td>189</td>\n",
              "      <td>190</td>\n",
              "      <td>190</td>\n",
              "      <td>187</td>\n",
              "      <td>190</td>\n",
              "      <td>192</td>\n",
              "      <td>193</td>\n",
              "      <td>191</td>\n",
              "      <td>191</td>\n",
              "      <td>192</td>\n",
              "      <td>192</td>\n",
              "      <td>194</td>\n",
              "      <td>194</td>\n",
              "      <td>166</td>\n",
              "      <td>169</td>\n",
              "      <td>172</td>\n",
              "      <td>174</td>\n",
              "      <td>177</td>\n",
              "      <td>180</td>\n",
              "      <td>182</td>\n",
              "      <td>185</td>\n",
              "      <td>186</td>\n",
              "      <td>187</td>\n",
              "      <td>190</td>\n",
              "      <td>...</td>\n",
              "      <td>90</td>\n",
              "      <td>77</td>\n",
              "      <td>88</td>\n",
              "      <td>117</td>\n",
              "      <td>123</td>\n",
              "      <td>127</td>\n",
              "      <td>129</td>\n",
              "      <td>134</td>\n",
              "      <td>145</td>\n",
              "      <td>152</td>\n",
              "      <td>156</td>\n",
              "      <td>179</td>\n",
              "      <td>105</td>\n",
              "      <td>106</td>\n",
              "      <td>105</td>\n",
              "      <td>104</td>\n",
              "      <td>104</td>\n",
              "      <td>104</td>\n",
              "      <td>175</td>\n",
              "      <td>199</td>\n",
              "      <td>178</td>\n",
              "      <td>152</td>\n",
              "      <td>136</td>\n",
              "      <td>130</td>\n",
              "      <td>136</td>\n",
              "      <td>150</td>\n",
              "      <td>118</td>\n",
              "      <td>92</td>\n",
              "      <td>85</td>\n",
              "      <td>76</td>\n",
              "      <td>92</td>\n",
              "      <td>105</td>\n",
              "      <td>105</td>\n",
              "      <td>108</td>\n",
              "      <td>133</td>\n",
              "      <td>163</td>\n",
              "      <td>157</td>\n",
              "      <td>163</td>\n",
              "      <td>164</td>\n",
              "      <td>179</td>\n",
              "    </tr>\n",
              "  </tbody>\n",
              "</table>\n",
              "<p>5 rows × 785 columns</p>\n",
              "</div>"
            ],
            "text/plain": [
              "   label  pixel1  pixel2  pixel3  ...  pixel781  pixel782  pixel783  pixel784\n",
              "0      3     107     118     127  ...       206       204       203       202\n",
              "1      6     155     157     156  ...       175       103       135       149\n",
              "2      2     187     188     188  ...       198       195       194       195\n",
              "3      2     211     211     212  ...       225       222       229       163\n",
              "4     13     164     167     170  ...       157       163       164       179\n",
              "\n",
              "[5 rows x 785 columns]"
            ]
          },
          "metadata": {
            "tags": []
          },
          "execution_count": 21
        }
      ]
    },
    {
      "cell_type": "markdown",
      "metadata": {
        "id": "KIVcQLwHEzYS",
        "colab_type": "text"
      },
      "source": [
        "###Data visualization and preprocessing"
      ]
    },
    {
      "cell_type": "markdown",
      "metadata": {
        "id": "lrI1MNlUFAbY",
        "colab_type": "text"
      },
      "source": [
        "Let us take a look at the number of training examples for each class. "
      ]
    },
    {
      "cell_type": "code",
      "metadata": {
        "id": "AkqGyvudLGiV",
        "colab_type": "code",
        "colab": {
          "base_uri": "https://localhost:8080/",
          "height": 514
        },
        "outputId": "9cb294fc-e557-4cd1-9cc3-09a6fbb47101"
      },
      "source": [
        "plt.figure(figsize = (10,8))\n",
        "sns.set_style(\"darkgrid\")\n",
        "sns.countplot(train_df['label'])"
      ],
      "execution_count": 22,
      "outputs": [
        {
          "output_type": "execute_result",
          "data": {
            "text/plain": [
              "<matplotlib.axes._subplots.AxesSubplot at 0x7fd0c8b690b8>"
            ]
          },
          "metadata": {
            "tags": []
          },
          "execution_count": 22
        },
        {
          "output_type": "display_data",
          "data": {
            "image/png": "[encoded data removed]",
            "text/plain": [
              "<Figure size 720x576 with 1 Axes>"
            ]
          },
          "metadata": {
            "tags": []
          }
        }
      ]
    },
    {
      "cell_type": "markdown",
      "metadata": {
        "id": "ijlZ1BmPGFLv",
        "colab_type": "text"
      },
      "source": [
        "The dataset seems fairly balanced as has enough training examples for each class (900+) and also there is no significant difference in the number of training examples for each."
      ]
    },
    {
      "cell_type": "code",
      "metadata": {
        "id": "WphGFV8yCAzU",
        "colab_type": "code",
        "colab": {}
      },
      "source": [
        "y_train = train_df['label'] #store train dataset labels in a seperate list\n",
        "y_test = test_df['label'] #store train dataset labels in a seperate list\n",
        "del train_df['label'] #delete labels column from train dataset\n",
        "del test_df['label']  #delete labels column from test dataset"
      ],
      "execution_count": 23,
      "outputs": []
    },
    {
      "cell_type": "markdown",
      "metadata": {
        "id": "LC9x7ExCKHIk",
        "colab_type": "text"
      },
      "source": [
        "###Binarizing the labels"
      ]
    },
    {
      "cell_type": "code",
      "metadata": {
        "id": "1E59ibYCCfrZ",
        "colab_type": "code",
        "colab": {}
      },
      "source": [
        "from sklearn.preprocessing import LabelBinarizer\n",
        "label_binarizer = LabelBinarizer()\n",
        "y_train = label_binarizer.fit_transform(y_train) #binarize train labels\n",
        "y_test = label_binarizer.fit_transform(y_test) #binarize test labels"
      ],
      "execution_count": 24,
      "outputs": []
    },
    {
      "cell_type": "code",
      "metadata": {
        "id": "5x2NXt0LCnft",
        "colab_type": "code",
        "colab": {}
      },
      "source": [
        "x_train = train_df.values #input matrix from training dataset\n",
        "x_test = test_df.values #input matrix from test dataset"
      ],
      "execution_count": 25,
      "outputs": []
    },
    {
      "cell_type": "markdown",
      "metadata": {
        "id": "Un5v36flKWUN",
        "colab_type": "text"
      },
      "source": [
        "###Performing grayscale normalization\n",
        "\n",
        "Each pixel value is an integer ranging from 0 to 255. This range is too high and makes the network converge slower. So, the best approach is to normalize the data. In our case, as the pixel value is in the known range it was sufficient to conduct min-max normalization, i.e., to scale the pixel values in the range of [0,1] by simply dividing the array by 255."
      ]
    },
    {
      "cell_type": "code",
      "metadata": {
        "id": "QgtMEz7eCpSL",
        "colab_type": "code",
        "colab": {}
      },
      "source": [
        "x_train = x_train/255 #perform grayscale normailization on training dataset\n",
        "x_test = x_test/255 #perform grayscale normailization on test dataset"
      ],
      "execution_count": 26,
      "outputs": []
    },
    {
      "cell_type": "code",
      "metadata": {
        "id": "k4hbWSMjCr6e",
        "colab_type": "code",
        "colab": {}
      },
      "source": [
        "x_train = x_train.reshape(-1,28,28,1) #reshape training data for CNN input\n",
        "x_test = x_test.reshape(-1,28,28,1) #reshape test data for CNN input"
      ],
      "execution_count": 27,
      "outputs": []
    },
    {
      "cell_type": "markdown",
      "metadata": {
        "id": "RDIifwg-LeVA",
        "colab_type": "text"
      },
      "source": [
        "###Previewing few images from the training dataset"
      ]
    },
    {
      "cell_type": "code",
      "metadata": {
        "id": "4zfhxnlkC09p",
        "colab_type": "code",
        "colab": {
          "base_uri": "https://localhost:8080/",
          "height": 394
        },
        "outputId": "2e794be3-b655-4e88-a25d-7f9142b03eb7"
      },
      "source": [
        "f,ax = plt.subplots(2,5) \n",
        "f.set_size_inches(10,10)\n",
        "k = 0\n",
        "for i in range(2):\n",
        "    for j in range(5):\n",
        "        ax[i,j].imshow(x_train[k].reshape(28, 28),cmap = \"gray\")\n",
        "        k += 1\n",
        "    plt.tight_layout()"
      ],
      "execution_count": 28,
      "outputs": [
        {
          "output_type": "display_data",
          "data": {
            "image/png": "[encoded data removed]",
            "text/plain": [
              "<Figure size 720x720 with 10 Axes>"
            ]
          },
          "metadata": {
            "tags": []
          }
        }
      ]
    },
    {
      "cell_type": "markdown",
      "metadata": {
        "id": "xCS3aAa8MmaF",
        "colab_type": "text"
      },
      "source": [
        "###Perform data augmentation\n",
        "\n",
        "Deep neural networks are usually very data-hungry affairs and lack mechanisms to learn abstractions from a limited amount of data. Data augmentation is a strategy that enables us to considerably improve the diversity of the available data for training models by applying small transformations, without actually collecting new data. For our implementation, we opt to randomly rotate an image by 10°, randomly zoom by 10%, randomly shift images horizontally by 10% of the total width and randomly shift images vertically by 10% of the total height."
      ]
    },
    {
      "cell_type": "code",
      "metadata": {
        "id": "GHtM3aZcC342",
        "colab_type": "code",
        "colab": {}
      },
      "source": [
        "datagen = ImageDataGenerator(\n",
        "        rotation_range=10, #randomly rotate images in the 10degrees range\n",
        "        zoom_range = 0.1, #randomly zoom images by 10%\n",
        "        width_shift_range=0.1, #randomly shift images horizontally by 10%\n",
        "        height_shift_range=0.1, #randomly shift images vertically by 10%\n",
        "        horizontal_flip=False, #randomly flip images\n",
        "        vertical_flip=False) #randomly flip images\n",
        "datagen.fit(x_train)"
      ],
      "execution_count": 29,
      "outputs": []
    },
    {
      "cell_type": "markdown",
      "metadata": {
        "id": "vSOUVELbNHQ-",
        "colab_type": "text"
      },
      "source": [
        "###Defining the CNN model"
      ]
    },
    {
      "cell_type": "code",
      "metadata": {
        "id": "dRQboqouC8dQ",
        "colab_type": "code",
        "colab": {}
      },
      "source": [
        "model = Sequential()\n",
        "model.add(Conv2D(75,(3,3),strides=1,padding='same',activation='relu',input_shape=(28,28,1)))\n",
        "model.add(BatchNormalization())\n",
        "model.add(MaxPool2D((2,2),strides=2,padding='same'))\n",
        "model.add(Conv2D(50,(3,3),strides=1,padding='same',activation='relu'))\n",
        "model.add(Dropout(0.5))\n",
        "model.add(BatchNormalization())\n",
        "model.add(MaxPool2D((2,2),strides=2,padding='same'))\n",
        "model.add(Conv2D(25,(3,3),strides=1,padding='same',activation='relu'))\n",
        "model.add(BatchNormalization())\n",
        "model.add(MaxPool2D((2,2),strides=2,padding='same'))\n",
        "model.add(Flatten())\n",
        "model.add(Dense(512,activation='relu'))\n",
        "model.add(Dropout(0.5))\n",
        "model.add(Dense(24,activation='softmax'))\n",
        "model.compile(optimizer='adam',loss='categorical_crossentropy',metrics=['accuracy'])"
      ],
      "execution_count": 30,
      "outputs": []
    },
    {
      "cell_type": "markdown",
      "metadata": {
        "id": "5tXoR09YNUZa",
        "colab_type": "text"
      },
      "source": [
        "Now, let's look at a more diagrammatic representation of the model we built. We will use the keras2ascii library for that purpose. "
      ]
    },
    {
      "cell_type": "code",
      "metadata": {
        "id": "yf6Yh2nDuW3y",
        "colab_type": "code",
        "colab": {
          "base_uri": "https://localhost:8080/",
          "height": 544
        },
        "outputId": "e765eeac-835a-4eb6-e835-3cee498c7b52"
      },
      "source": [
        "from keras_sequential_ascii import keras2ascii\n",
        "keras2ascii(model)"
      ],
      "execution_count": 32,
      "outputs": [
        {
          "output_type": "stream",
          "text": [
            "           OPERATION           DATA DIMENSIONS   WEIGHTS(N)   WEIGHTS(%)\n",
            "\n",
            "               Input   #####     28   28    1\n",
            "              Conv2D    \\|/  -------------------       750     0.3%\n",
            "                relu   #####     28   28   75\n",
            "  BatchNormalization    μ|σ  -------------------       300     0.1%\n",
            "                       #####     28   28   75\n",
            "        MaxPooling2D   Y max -------------------         0     0.0%\n",
            "                       #####     14   14   75\n",
            "              Conv2D    \\|/  -------------------     33800    12.8%\n",
            "                relu   #####     14   14   50\n",
            "             Dropout    | || -------------------         0     0.0%\n",
            "                       #####     14   14   50\n",
            "  BatchNormalization    μ|σ  -------------------       200     0.1%\n",
            "                       #####     14   14   50\n",
            "        MaxPooling2D   Y max -------------------         0     0.0%\n",
            "                       #####      7    7   50\n",
            "              Conv2D    \\|/  -------------------     11275     4.3%\n",
            "                relu   #####      7    7   25\n",
            "  BatchNormalization    μ|σ  -------------------       100     0.0%\n",
            "                       #####      7    7   25\n",
            "        MaxPooling2D   Y max -------------------         0     0.0%\n",
            "                       #####      4    4   25\n",
            "             Flatten   ||||| -------------------         0     0.0%\n",
            "                       #####         400\n",
            "               Dense   XXXXX -------------------    205312    77.8%\n",
            "                relu   #####         512\n",
            "             Dropout    | || -------------------         0     0.0%\n",
            "                       #####         512\n",
            "               Dense   XXXXX -------------------     12312     4.7%\n",
            "             softmax   #####          24\n"
          ],
          "name": "stdout"
        }
      ]
    },
    {
      "cell_type": "markdown",
      "metadata": {
        "id": "Tdz-P25eOLAi",
        "colab_type": "text"
      },
      "source": [
        "###Training the CNN model\n",
        "\n",
        "Let's train the model we built on the training data."
      ]
    },
    {
      "cell_type": "code",
      "metadata": {
        "id": "Vxh_pPlmEHem",
        "colab_type": "code",
        "colab": {
          "base_uri": "https://localhost:8080/",
          "height": 377
        },
        "outputId": "78353cb4-023e-4154-bdc2-be45a0c9c984"
      },
      "source": [
        "history = model.fit(datagen.flow(x_train,y_train,batch_size=128),epochs=10,validation_data=(x_test,y_test))"
      ],
      "execution_count": 35,
      "outputs": [
        {
          "output_type": "stream",
          "text": [
            "Epoch 1/10\n",
            "215/215 [==============================] - 7s 35ms/step - loss: 0.0362 - accuracy: 0.9877 - val_loss: 0.2715 - val_accuracy: 0.9306\n",
            "Epoch 2/10\n",
            "215/215 [==============================] - 7s 34ms/step - loss: 0.0331 - accuracy: 0.9884 - val_loss: 0.0526 - val_accuracy: 0.9813\n",
            "Epoch 3/10\n",
            "215/215 [==============================] - 8s 35ms/step - loss: 0.0295 - accuracy: 0.9898 - val_loss: 0.0667 - val_accuracy: 0.9806\n",
            "Epoch 4/10\n",
            "215/215 [==============================] - 8s 35ms/step - loss: 0.0283 - accuracy: 0.9906 - val_loss: 0.2229 - val_accuracy: 0.9359\n",
            "Epoch 5/10\n",
            "215/215 [==============================] - 7s 34ms/step - loss: 0.0286 - accuracy: 0.9907 - val_loss: 0.0087 - val_accuracy: 0.9972\n",
            "Epoch 6/10\n",
            "215/215 [==============================] - 7s 34ms/step - loss: 0.0296 - accuracy: 0.9905 - val_loss: 1.5025 - val_accuracy: 0.7303\n",
            "Epoch 7/10\n",
            "215/215 [==============================] - 7s 35ms/step - loss: 0.0300 - accuracy: 0.9906 - val_loss: 0.2907 - val_accuracy: 0.9228\n",
            "Epoch 8/10\n",
            "215/215 [==============================] - 7s 34ms/step - loss: 0.0266 - accuracy: 0.9910 - val_loss: 0.0424 - val_accuracy: 0.9822\n",
            "Epoch 9/10\n",
            "215/215 [==============================] - 7s 34ms/step - loss: 0.0249 - accuracy: 0.9924 - val_loss: 0.0184 - val_accuracy: 0.9944\n",
            "Epoch 10/10\n",
            "215/215 [==============================] - 7s 34ms/step - loss: 0.0288 - accuracy: 0.9909 - val_loss: 0.0313 - val_accuracy: 0.9883\n"
          ],
          "name": "stdout"
        }
      ]
    },
    {
      "cell_type": "markdown",
      "metadata": {
        "id": "g-d-KOjeQJ-d",
        "colab_type": "text"
      },
      "source": [
        "###Model performance evaluation and analysis"
      ]
    },
    {
      "cell_type": "markdown",
      "metadata": {
        "id": "a5zlcBrHQPxp",
        "colab_type": "text"
      },
      "source": [
        "The final test set accuracy score achieved by our model is 98.7%"
      ]
    },
    {
      "cell_type": "code",
      "metadata": {
        "id": "_MF-iherESK2",
        "colab_type": "code",
        "colab": {
          "base_uri": "https://localhost:8080/",
          "height": 51
        },
        "outputId": "7423b0ba-ac81-4f34-d45d-7651921a681a"
      },
      "source": [
        "print(\"Accuracy of the model is: \" , model.evaluate(x_test,y_test)[1]*100,\"%\")"
      ],
      "execution_count": 36,
      "outputs": [
        {
          "output_type": "stream",
          "text": [
            "225/225 [==============================] - 1s 3ms/step - loss: 0.0313 - accuracy: 0.9883\n",
            "Accuracy of the model is:  98.82878065109253 %\n"
          ],
          "name": "stdout"
        }
      ]
    },
    {
      "cell_type": "markdown",
      "metadata": {
        "id": "Xo-7jYv1Q5hb",
        "colab_type": "text"
      },
      "source": [
        "Let's take a look at the training and test accuracy and training and test loss graphs."
      ]
    },
    {
      "cell_type": "code",
      "metadata": {
        "id": "E6JdqkxWFDPf",
        "colab_type": "code",
        "colab": {
          "base_uri": "https://localhost:8080/",
          "height": 312
        },
        "outputId": "191ee026-60ec-4365-bbe4-a5636b30981f"
      },
      "source": [
        "epochs = [i for i in range(10)]\n",
        "plt.figure(figsize=(30,30))\n",
        "fig , ax = plt.subplots(1,2)\n",
        "train_acc = history.history['accuracy']\n",
        "train_loss = history.history['loss']\n",
        "val_acc = history.history['val_accuracy']\n",
        "val_loss = history.history['val_loss']\n",
        "ax[0].plot(epochs,train_acc,color=\"#cf5151\",label='Training Accuracy')\n",
        "ax[0].plot(epochs,val_acc,color=\"#4456b3\",label='Testing Accuracy')\n",
        "ax[0].set_title('Training & Test Accuracy',fontsize=12)\n",
        "ax[0].legend()\n",
        "ax[0].set_xlabel(\"Epochs\")\n",
        "ax[0].set_ylabel(\"Accuracy\")\n",
        "ax[1].plot(epochs,train_loss,color=\"#cf5151\",label='Training Loss')\n",
        "ax[1].plot(epochs,val_loss,color=\"#4456b3\",label='Testing Loss')\n",
        "ax[1].set_title('Training & Test Loss',fontsize=12)\n",
        "ax[1].legend()\n",
        "ax[1].set_xlabel(\"Epochs\")\n",
        "ax[1].set_ylabel(\"Loss\")\n",
        "plt.show()"
      ],
      "execution_count": 41,
      "outputs": [
        {
          "output_type": "display_data",
          "data": {
            "text/plain": [
              "<Figure size 2160x2160 with 0 Axes>"
            ]
          },
          "metadata": {
            "tags": []
          }
        },
        {
          "output_type": "display_data",
          "data": {
            "image/png": "[encoded data removed]",
            "text/plain": [
              "<Figure size 432x288 with 2 Axes>"
            ]
          },
          "metadata": {
            "tags": []
          }
        }
      ]
    },
    {
      "cell_type": "markdown",
      "metadata": {
        "id": "RLnvFYhBSNrF",
        "colab_type": "text"
      },
      "source": [
        "Let's take a look at the precision, recall and f1 score for each class to evaluate the class-wise model performance on test samples. We will also generate a confusion matrix to visualize the performance and help us identify which characters are the most misclassified and draw insights for further development."
      ]
    },
    {
      "cell_type": "code",
      "metadata": {
        "id": "jL00T15yGjVf",
        "colab_type": "code",
        "colab": {
          "base_uri": "https://localhost:8080/",
          "height": 615
        },
        "outputId": "1ebfe863-a8a9-40d0-cefb-874008d3fb24"
      },
      "source": [
        "predictions = model.predict_classes(x_test)\n",
        "for i in range(len(predictions)):\n",
        "    if(predictions[i]>=9):\n",
        "        predictions[i] += 1\n",
        "predictions[:5]   \n",
        "classes = [\"Class \"+str(i) for i in range(25) if i!=9]\n",
        "print(classification_report(y,predictions,target_names=classes))"
      ],
      "execution_count": 42,
      "outputs": [
        {
          "output_type": "stream",
          "text": [
            "WARNING:tensorflow:From <ipython-input-42-4ea14fff5bd6>:1: Sequential.predict_classes (from tensorflow.python.keras.engine.sequential) is deprecated and will be removed after 2021-01-01.\n",
            "Instructions for updating:\n",
            "Please use instead:* `np.argmax(model.predict(x), axis=-1)`,   if your model does multi-class classification   (e.g. if it uses a `softmax` last-layer activation).* `(model.predict(x) > 0.5).astype(\"int32\")`,   if your model does binary classification   (e.g. if it uses a `sigmoid` last-layer activation).\n",
            "              precision    recall  f1-score   support\n",
            "\n",
            "     Class 0       1.00      1.00      1.00       331\n",
            "     Class 1       1.00      1.00      1.00       432\n",
            "     Class 2       1.00      1.00      1.00       310\n",
            "     Class 3       1.00      0.99      0.99       245\n",
            "     Class 4       1.00      0.96      0.98       498\n",
            "     Class 5       1.00      0.99      0.99       247\n",
            "     Class 6       0.93      1.00      0.97       348\n",
            "     Class 7       1.00      0.94      0.97       436\n",
            "     Class 8       0.99      1.00      1.00       288\n",
            "    Class 10       0.97      1.00      0.99       331\n",
            "    Class 11       1.00      1.00      1.00       209\n",
            "    Class 12       0.93      1.00      0.96       394\n",
            "    Class 13       1.00      0.99      0.99       291\n",
            "    Class 14       1.00      1.00      1.00       246\n",
            "    Class 15       1.00      1.00      1.00       347\n",
            "    Class 16       1.00      1.00      1.00       164\n",
            "    Class 17       0.92      0.97      0.95       144\n",
            "    Class 18       1.00      0.97      0.99       246\n",
            "    Class 19       1.00      1.00      1.00       248\n",
            "    Class 20       0.98      0.98      0.98       266\n",
            "    Class 21       1.00      0.96      0.98       346\n",
            "    Class 22       1.00      1.00      1.00       206\n",
            "    Class 23       1.00      1.00      1.00       267\n",
            "    Class 24       1.00      1.00      1.00       332\n",
            "\n",
            "    accuracy                           0.99      7172\n",
            "   macro avg       0.99      0.99      0.99      7172\n",
            "weighted avg       0.99      0.99      0.99      7172\n",
            "\n"
          ],
          "name": "stdout"
        }
      ]
    },
    {
      "cell_type": "code",
      "metadata": {
        "id": "_Y8uS2hGGuCO",
        "colab_type": "code",
        "colab": {
          "base_uri": "https://localhost:8080/",
          "height": 609
        },
        "outputId": "117dd96f-2b62-48a7-d307-1122ff325d3a"
      },
      "source": [
        "cm = confusion_matrix(y,predictions)\n",
        "cm = pd.DataFrame(cm,index=[i for i in range(25) if i!=9],columns=[i for i in range(25) if i!=9])\n",
        "plt.figure(figsize=(10,10))\n",
        "sns.heatmap(cm,cmap=\"Blues\",linecolor='black',linewidth=0.1,annot=True,fmt='')"
      ],
      "execution_count": 44,
      "outputs": [
        {
          "output_type": "execute_result",
          "data": {
            "text/plain": [
              "<matplotlib.axes._subplots.AxesSubplot at 0x7fd0607a8cc0>"
            ]
          },
          "metadata": {
            "tags": []
          },
          "execution_count": 44
        },
        {
          "output_type": "display_data",
          "data": {
            "image/png": "[encoded data removed]",
            "text/plain": [
              "<Figure size 720x720 with 2 Axes>"
            ]
          },
          "metadata": {
            "tags": []
          }
        }
      ]
    },
    {
      "cell_type": "markdown",
      "metadata": {
        "id": "yGrpYLXYTaP9",
        "colab_type": "text"
      },
      "source": [
        "It seems that our model is performing quite well for all classes. However, performance on class 17 (letter R) can be worked on. The main reason of letter R not being classified as well as other letters is because of the signs's close resemblance to the signs of letter D, K and U."
      ]
    },
    {
      "cell_type": "markdown",
      "metadata": {
        "id": "zuL9pBdzUkMc",
        "colab_type": "text"
      },
      "source": [
        "###Saving the model as a tflite file for Flutter application"
      ]
    },
    {
      "cell_type": "code",
      "metadata": {
        "id": "GqQ1kTLQckic",
        "colab_type": "code",
        "colab": {
          "base_uri": "https://localhost:8080/",
          "height": 156
        },
        "outputId": "ff0db9f5-c4fc-40bc-bc4a-1ed2c271903b"
      },
      "source": [
        "tf.keras.models.save_model(model,\"/savedmodels/asl_aplhabet\",overwrite=True,include_optimizer=True,save_format='tf',signatures=None,)\n",
        "asl_model = tf.keras.models.load_model(\"/savedmodels/asl_aplhabet\",custom_objects={'KerasLayer':hub.KerasLayer},compile=True)"
      ],
      "execution_count": 45,
      "outputs": [
        {
          "output_type": "stream",
          "text": [
            "WARNING:tensorflow:From /usr/local/lib/python3.6/dist-packages/tensorflow/python/training/tracking/tracking.py:111: Model.state_updates (from tensorflow.python.keras.engine.training) is deprecated and will be removed in a future version.\n",
            "Instructions for updating:\n",
            "This property should not be used in TensorFlow 2.0, as updates are applied automatically.\n",
            "WARNING:tensorflow:From /usr/local/lib/python3.6/dist-packages/tensorflow/python/training/tracking/tracking.py:111: Layer.updates (from tensorflow.python.keras.engine.base_layer) is deprecated and will be removed in a future version.\n",
            "Instructions for updating:\n",
            "This property should not be used in TensorFlow 2.0, as updates are applied automatically.\n",
            "INFO:tensorflow:Assets written to: /savedmodels/asl_aplhabet/assets\n"
          ],
          "name": "stdout"
        }
      ]
    },
    {
      "cell_type": "code",
      "metadata": {
        "id": "QFah6sz4cqF7",
        "colab_type": "code",
        "colab": {
          "base_uri": "https://localhost:8080/",
          "height": 102
        },
        "outputId": "bc200b99-06ef-4b5b-ae81-b52a36abd2fe"
      },
      "source": [
        "!mkdir \"/savedmodels/tflite_models\"\n",
        "#Get the concrete function from the Keras model.\n",
        "run_model = tf.function(lambda x : asl_model(x))\n",
        "#Save the concrete function.\n",
        "concrete_func = run_model.get_concrete_function(\n",
        "tf.TensorSpec(model.inputs[0].shape,model.inputs[0].dtype))\n",
        "#Convert the model\n",
        "converter = tf.lite.TFLiteConverter.from_concrete_functions([concrete_func])\n",
        "converted_tflite_model = converter.convert()\n",
        "open(\"/savedmodels/tflite_models/asl.tflite\",\"wb\").write(converted_tflite_model)\n",
        "#Convert the model to quantized version with post-training quantization\n",
        "converter = tf.lite.TFLiteConverter.from_concrete_functions([concrete_func])\n",
        "converter.optimizations = [tf.lite.Optimize.OPTIMIZE_FOR_SIZE]\n",
        "tflite_quant_model = converter.convert()\n",
        "open(\"/savedmodels/tflite_models/asl_quant.tflite\",\"wb\").write(tflite_quant_model)\n",
        "print(\"TFLite models and their sizes:\")\n",
        "!ls \"/savedmodels/tflite_models\" -lh"
      ],
      "execution_count": 48,
      "outputs": [
        {
          "output_type": "stream",
          "text": [
            "mkdir: cannot create directory ‘/savedmodels/tflite_models’: File exists\n",
            "TFLite models and their sizes:\n",
            "total 1.3M\n",
            "-rw-r--r-- 1 root root 269K Aug 17 12:12 asl_quant.tflite\n",
            "-rw-r--r-- 1 root root 1.1M Aug 17 12:12 asl.tflite\n"
          ],
          "name": "stdout"
        }
      ]
    }
  ]
}